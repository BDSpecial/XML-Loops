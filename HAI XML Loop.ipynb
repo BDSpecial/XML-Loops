{
 "cells": [
  {
   "cell_type": "code",
   "execution_count": 1,
   "metadata": {},
   "outputs": [],
   "source": [
    "import xml.dom.minidom\n",
    "import xml.etree.ElementTree as ET\n",
    "from xml.dom.minidom import Node\n",
    "import pandas as pd"
   ]
  },
  {
   "cell_type": "code",
   "execution_count": 2,
   "metadata": {},
   "outputs": [],
   "source": [
    "# HAI Summary Files\n",
    "CLABSI_Summary = pd.read_csv(\"CLABSI Summary.csv\")\n",
    "CAUTI_Summary = pd.read_csv(\"CAUTI Summary.csv\")\n",
    "VAE_Summary = pd.read_csv(\"VAE Summary.csv\")\n",
    "MDRO_Summary = pd.read_csv(\"MDRO Summary.csv\")"
   ]
  },
  {
   "cell_type": "code",
   "execution_count": 3,
   "metadata": {},
   "outputs": [],
   "source": [
    "# HAI Individual Patient Files\n",
    "CLABSI_Individual = pd.read_csv(\"CLABSI Individuals.csv\")\n",
    "CAUTI_Individual = pd.read_csv(\"CAUTI Individuals.csv\")\n",
    "VAE_Individual = pd.read_csv(\"VAE Individuals.csv\")\n",
    "MDRO_Individual = pd.read_csv(\"MDRO Individuals.csv\")"
   ]
  },
  {
   "cell_type": "code",
   "execution_count": 4,
   "metadata": {},
   "outputs": [],
   "source": [
    "# convert the 'SpecimenDate', 'FacAdmissionDate', and 'UnitAdmissionDate' columns to datetime format\n",
    "MDRO_Individual.SpecimenDate = pd.to_datetime(MDRO_Individual.SpecimenDate)\n",
    "MDRO_Individual.FacAdmissionDate = pd.to_datetime(MDRO_Individual.FacAdmissionDate)\n",
    "MDRO_Individual.UnitAdmissionDate = pd.to_datetime(MDRO_Individual.UnitAdmissionDate)\n",
    "# Change the date formating\n",
    "MDRO_Individual.SpecimenDate = MDRO_Individual.SpecimenDate.apply(lambda x: x.strftime('%m/%d/%Y'))\n",
    "MDRO_Individual.FacAdmissionDate = MDRO_Individual.FacAdmissionDate.apply(lambda x: x.strftime('%m/%d/%Y'))\n",
    "MDRO_Individual.UnitAdmissionDate = MDRO_Individual.UnitAdmissionDate.apply(lambda x: x.strftime('%m/%d/%Y'))"
   ]
  },
  {
   "cell_type": "markdown",
   "metadata": {},
   "source": [
    "## HAI Summary Function"
   ]
  },
  {
   "cell_type": "code",
   "execution_count": 5,
   "metadata": {},
   "outputs": [],
   "source": [
    "# The variables needed for this function are the: Hospital abbreviation, Hospital NDNQI template, Hospital NDNQI\n",
    "# code, Calendar year being submitted, and Calendar quarter being submitted\n",
    "def NDNQI_HAI_Summary_XML(Selected_Hosp,Hosp_XML_Template,Hosp_NDNQI_Code,Calendar_Year,Calendar_Quarter):\n",
    "    # This section is to add or create each HAI summary section\n",
    "    \n",
    "    # This Hospital's Summary Data\n",
    "    Hosp_MDRO_data = MDRO_Summary[MDRO_Summary.Hospital == Selected_Hosp]\n",
    "    Hosp_CLABSI_data = CLABSI_Summary[CLABSI_Summary.Hospital == Selected_Hosp]\n",
    "    Hosp_CAUTI_data = CAUTI_Summary[CAUTI_Summary.Hospital == Selected_Hosp]\n",
    "    Hosp_VAE_data = VAE_Summary[VAE_Summary.Hospital == Selected_Hosp]\n",
    "    # A List of this Hospital's Unit Names\n",
    "    Hosp_Units = list(set(Hosp_MDRO_data.UnitName))\n",
    "\n",
    "    #This is the current XML template for this hospital and their NDNQI units for this metric\n",
    "    tree = xml.dom.minidom.parse(Hosp_XML_Template)\n",
    "    # This is each unit node of the xml file\n",
    "    unit_nodes = tree.getElementsByTagName(\"UnitYrQtr\")\n",
    "\n",
    "    # Make sure the correct year and quarter are listed\n",
    "    H = tree.getElementsByTagName(\"HospitalCode\")[0].childNodes[0].nodeValue = Hosp_NDNQI_Code\n",
    "    Y = tree.getElementsByTagName(\"Year\")[0].childNodes[0].nodeValue = Calendar_Year\n",
    "    Q = tree.getElementsByTagName(\"Quarter\")[0].childNodes[0].nodeValue = Calendar_Quarter\n",
    "\n",
    "\n",
    "    # Take the xml UnitName and replace it with the correct Hospital UnitName from the Hosp_Units list. \n",
    "    for idx, unit in enumerate(unit_nodes):\n",
    "        unit.getElementsByTagName('UnitName')[0].childNodes[0].nodeValue = Hosp_Units[idx]\n",
    "        current_xml_unit = unit.getElementsByTagName('UnitName')[0].childNodes[0].nodeValue\n",
    "\n",
    "        # Now grab each of the 3 months for that unit from the Hospital data\n",
    "        MDRO_new_data = Hosp_MDRO_data[Hosp_MDRO_data.UnitName == Hosp_Units[idx]]\n",
    "        CLABSI_new_data = Hosp_CLABSI_data[Hosp_CLABSI_data.UnitName == Hosp_Units[idx]]\n",
    "        CAUTI_new_data = Hosp_CAUTI_data[Hosp_CAUTI_data.UnitName == Hosp_Units[idx]]\n",
    "        VAE_new_data = Hosp_VAE_data[Hosp_VAE_data.UnitName == Hosp_Units[idx]]\n",
    "        # Sort the data by month\n",
    "        MDRO_new_data = MDRO_new_data.sort_values('Month')\n",
    "        CLABSI_new_data = CLABSI_new_data.sort_values('Month')\n",
    "        CAUTI_new_data = CAUTI_new_data.sort_values('Month')\n",
    "        VAE_new_data = VAE_new_data.sort_values('Month')\n",
    "\n",
    "\n",
    "        # Take each xml Month and replace it with each listed month from the new_data for that unit\n",
    "        month_nodes = unit.getElementsByTagName(\"UnitMonth\")\n",
    "        for idx2, month in enumerate(month_nodes):\n",
    "            month.getElementsByTagName('Month')[0].childNodes[0].nodeValue = MDRO_new_data.Month.iloc[idx2]\n",
    "\n",
    "            # Take each xml MDROSummary\n",
    "            MDRO_nodes = month.getElementsByTagName(\"MDROSummary\")\n",
    "            # Now replace each xml metric value with data that has the same name from our data source\n",
    "            for MDRO_node in MDRO_nodes:\n",
    "\n",
    "                for column in MDRO_new_data.columns[3:]:\n",
    "                    new_value = MDRO_new_data[column].iloc[idx2]\n",
    "                    MDRO_node.getElementsByTagName(column)[0].childNodes[0].nodeValue = new_value\n",
    "\n",
    "\n",
    "            # Next check if the current unit is a CLABSI unit\n",
    "            if current_xml_unit in list(set(CLABSI_new_data.UnitName)):\n",
    "\n",
    "                # Create a new 'BsiSummary' to append to the current 'BsiSummarys'\n",
    "                new_CLABSI_summary = tree.createElement(\"BsiSummary\")\n",
    "\n",
    "                CLABSI_list = [\"TotalBsiDays\", 'BsiDaysForBirthWeightLt751', 'BsiDaysForBirthWeight751to1000',\n",
    "                              'BsiDaysForBirthWeight1001to1500', 'BsiDaysForBirthWeight1501to2500',\n",
    "                              'BsiDaysForBirthWeightGt2500', 'TotalBsi', 'BsiForBirthWeightLt751',\n",
    "                              'BsiForBirthWeight751to1000', 'BsiForBirthWeight1001to1500',\n",
    "                              'BsiForBirthWeight1501to2500', 'BsiForBirthWeightGt2500', 'BsiPatients']\n",
    "\n",
    "                for data in CLABSI_list:\n",
    "                    # I create an element for each individual's metrics\n",
    "                    data_name = tree.createElement(data)\n",
    "\n",
    "                    if data in ['BsiDaysForBirthWeightLt751', 'BsiDaysForBirthWeight751to1000',\n",
    "                              'BsiDaysForBirthWeight1001to1500', 'BsiDaysForBirthWeight1501to2500',\n",
    "                              'BsiDaysForBirthWeightGt2500','BsiForBirthWeightLt751',\n",
    "                              'BsiForBirthWeight751to1000', 'BsiForBirthWeight1001to1500',\n",
    "                              'BsiForBirthWeight1501to2500', 'BsiForBirthWeightGt2500']:\n",
    "                        data_name.setAttribute('xsi:nil', 'true')\n",
    "                    elif data == 'BsiPatients':\n",
    "                        data_name.appendChild(tree.createTextNode(''))\n",
    "                    else:\n",
    "                        # and now add the correct value for that metric\n",
    "                        data_name.appendChild(tree.createTextNode(str(CLABSI_new_data[data].iloc[idx2])))\n",
    "\n",
    "                    new_CLABSI_summary.appendChild(data_name)\n",
    "\n",
    "                # Finally, I can add this new 'BsiSummary' to the current 'BsiSummarys'\n",
    "                month.getElementsByTagName(\"BsiSummarys\")[0].appendChild(new_CLABSI_summary)\n",
    "\n",
    "\n",
    "            # Next check if the current unit is a CAUTI unit\n",
    "            if current_xml_unit in list(set(CAUTI_new_data.UnitName)):\n",
    "\n",
    "                # Create a new 'UtiSummary' to append to the current 'UtiSummarys'\n",
    "                new_CAUTI_summary = tree.createElement(\"UtiSummary\")\n",
    "\n",
    "                CAUTI_list = [\"TotalUtiDays\", 'TotalUti','UtiPatients']\n",
    "\n",
    "                for data in CAUTI_list:\n",
    "                    # I create an element for each individual's metrics\n",
    "                    data_name = tree.createElement(data)\n",
    "\n",
    "                    if data == 'UtiPatients':\n",
    "                        data_name.appendChild(tree.createTextNode(''))\n",
    "                    else:\n",
    "                        # and now add the correct value for that metric\n",
    "                        data_name.appendChild(tree.createTextNode(str(CAUTI_new_data[data].iloc[idx2])))\n",
    "\n",
    "                    new_CAUTI_summary.appendChild(data_name)\n",
    "\n",
    "                 # Finally, I can add this new 'UtiSummary' to the current 'UtiSummarys'\n",
    "                month.getElementsByTagName(\"UtiSummarys\")[0].appendChild(new_CAUTI_summary)\n",
    "\n",
    "            # Next check if the current unit is a VAE unit\n",
    "            if current_xml_unit in list(set(VAE_new_data.UnitName)):\n",
    "\n",
    "                # Create a new 'VAESummary' to append to the current 'VAESummarys'\n",
    "                new_VAE_summary = tree.createElement(\"VAESummary\")\n",
    "\n",
    "                VAE_list = [\"TotalVentDays\",'TotalVAE','APRVReporting','TotalAPRVDays','VAEPatients']\n",
    "\n",
    "                for data in VAE_list:\n",
    "                    # I create an element for each individual's metrics\n",
    "                    data_name = tree.createElement(data)\n",
    "\n",
    "                    if data == 'TotalAPRVDays':\n",
    "                        data_name.setAttribute('xsi:nil', 'true')\n",
    "                    elif data == 'VAEPatients':\n",
    "                        data_name.appendChild(tree.createTextNode(''))\n",
    "                    else:\n",
    "                        # and now add the correct value for that metric\n",
    "                        data_name.appendChild(tree.createTextNode(str(VAE_new_data[data].iloc[idx2])))\n",
    "\n",
    "                    new_VAE_summary.appendChild(data_name)\n",
    "\n",
    "                # Finally, I can add this new 'VAESummary' to the current 'VAESummarys'\n",
    "                month.getElementsByTagName(\"VAESummarys\")[0].appendChild(new_VAE_summary)\n",
    "\n",
    "\n",
    "    # This is a temporary xml file that I will now use to add the individual separation data.\n",
    "    tree.writexml(open('Temp_{}.xml'.format(Selected_Hosp), 'w'))"
   ]
  },
  {
   "cell_type": "markdown",
   "metadata": {},
   "source": [
    "## HAI Individual Detail Function"
   ]
  },
  {
   "cell_type": "code",
   "execution_count": 6,
   "metadata": {},
   "outputs": [],
   "source": [
    "# The variables needed for this function are the: Hospital abbreviation, Hospital Temp XML file,\n",
    "# Calendar year being submitted, and Calendar quarter being submitted\n",
    "def NDNQI_HAI_Indiv_XML(Selected_Hosp,Temp_XML,Calendar_Year,Calendar_Quarter):\n",
    "    # This is the temporary xml file that has already had the HAI Summary section filled\n",
    "    \n",
    "    # This Hospital's Summary Data\n",
    "    Hosp_MDRO_data = MDRO_Summary[MDRO_Summary.Hospital == Selected_Hosp]\n",
    "    Hosp_CLABSI_data = CLABSI_Summary[CLABSI_Summary.Hospital == Selected_Hosp]\n",
    "    Hosp_CAUTI_data = CAUTI_Summary[CAUTI_Summary.Hospital == Selected_Hosp]\n",
    "    Hosp_VAE_data = VAE_Summary[VAE_Summary.Hospital == Selected_Hosp]\n",
    "    \n",
    "    # This Hospital's Individual Data\n",
    "    Hosp_MDRO_individual = MDRO_Individual[MDRO_Individual.Hospital == Selected_Hosp]\n",
    "    Hosp_CLABSI_individual = CLABSI_Individual[CLABSI_Individual.Hospital == Selected_Hosp]\n",
    "    Hosp_CAUTI_individual = CAUTI_Individual[CAUTI_Individual.Hospital == Selected_Hosp]\n",
    "    Hosp_VAE_individual = VAE_Individual[VAE_Individual.Hospital == Selected_Hosp]\n",
    "    \n",
    "    tree = xml.dom.minidom.parse(Temp_XML)\n",
    "    unit_nodes = tree.getElementsByTagName(\"UnitYrQtr\")\n",
    "\n",
    "    # This loops through each listed unit in our Temp xml file\n",
    "    for idx, unit in enumerate(unit_nodes):\n",
    "        each_unit = unit.getElementsByTagName('UnitName')[0].childNodes[0].nodeValue\n",
    "\n",
    "        # Then we loop through each listed month\n",
    "        month_nodes = unit.getElementsByTagName(\"UnitMonth\")\n",
    "        for idx2, month in enumerate(month_nodes):\n",
    "            each_month = month.getElementsByTagName('Month')[0].childNodes[0].nodeValue\n",
    "\n",
    "            CDIFF_count = month.getElementsByTagName('TotalCDiff')[0].childNodes[0].nodeValue\n",
    "            MDRA_count = month.getElementsByTagName('TotalMRSA')[0].childNodes[0].nodeValue     \n",
    "\n",
    "            MDROs = [int(CDIFF_count), int(MDRA_count)]\n",
    "            total_MDROs = sum(MDROs)\n",
    "\n",
    "            if total_MDROs > 0:\n",
    "                # Then I grab each patient with HAI data for this unit\n",
    "                MDRO_patients = Hosp_MDRO_individual[Hosp_MDRO_individual.UnitName == each_unit]\n",
    "                # Lastly, I select only that unit's HAIs that occured in each specific month\n",
    "                Monthly_MDROs = MDRO_patients[MDRO_patients.Month == int(each_month)]\n",
    "\n",
    "                # Now I can take each listed HAI\n",
    "                for i in range(len(Monthly_MDROs)):\n",
    "\n",
    "                    # and create a \"MDROEvent\" node for each individual MDRO\n",
    "                    MDRO_patient = tree.createElement(\"MDROEvent\")\n",
    "\n",
    "                    MDRO_patient_list = ['AgeYears','xGenderFID','xMDROOrganismFID','SpecimenDate',\n",
    "                                         'FacAdmissionDate','UnitAdmissionDate','NewCDIF','NewMRSA']\n",
    "                    for data in MDRO_patient_list:\n",
    "                        if Monthly_MDROs['xMDROOrganismFID'].iloc[i] == 'MRSA':\n",
    "                            # I create an element for each individual's metrics\n",
    "                            data_name = tree.createElement(data)\n",
    "                            if data == 'NewCDIF':\n",
    "                                data_name.setAttribute('xsi:nil', 'true')\n",
    "                            else:\n",
    "                                # and I add each one to that individual's \"MDROEvent\" node\n",
    "                                data_name.appendChild(tree.createTextNode(str(Monthly_MDROs[data].iloc[i])))\n",
    "\n",
    "                            MDRO_patient.appendChild(data_name)\n",
    "                        else:\n",
    "                            # I create an element for each individual's metrics\n",
    "                            data_name = tree.createElement(data)\n",
    "                            if data == 'NewMRSA':\n",
    "                                data_name.setAttribute('xsi:nil', 'true')\n",
    "                            else:\n",
    "                                # and I add each one to that individual's \"MDROEvent\" node\n",
    "                                data_name.appendChild(tree.createTextNode(str(Monthly_MDROs[data].iloc[i])))\n",
    "\n",
    "                            MDRO_patient.appendChild(data_name)\n",
    "\n",
    "                    # Finally, I can add these individual MDRO patients to the \"MDROEvents\" section.\n",
    "                    month.getElementsByTagName(\"MDROEvents\")[0].appendChild(MDRO_patient)\n",
    "\n",
    "\n",
    "            # Next check if the current unit is a CLABSI unit\n",
    "            if each_unit in list(set(Hosp_CLABSI_data.UnitName)):\n",
    "                CLABSI_count = month.getElementsByTagName('TotalBsi')[0].childNodes[0].nodeValue\n",
    "                if int(CLABSI_count) > 0:\n",
    "                    CLABSI_patients = Hosp_CLABSI_individual[Hosp_CLABSI_individual.UnitName == each_unit]\n",
    "                    # Lastly, I select only that unit's HAIs that occured in each specific month\n",
    "                    Monthly_CLABSI = CLABSI_patients[CLABSI_patients.Month == int(each_month)]\n",
    "\n",
    "                    # Now I can take each listed HAI\n",
    "                    for i in range(len(Monthly_CLABSI)):\n",
    "\n",
    "                        # and create a \"BsiPatient\" node for each individual CLABSI\n",
    "                        CLABSI_patient = tree.createElement(\"BsiPatient\")\n",
    "\n",
    "                        CLABSI_patient_list = ['xGenderFID','AgeYears','AgeMonths','xBirthWeightCategoryFID',\n",
    "                                              'xBsiInsertionSiteFID','xBsiEventTypeFID']\n",
    "                        for data in CLABSI_patient_list:\n",
    "                            # I create an element for each individual's metrics\n",
    "                            data_name = tree.createElement(data)\n",
    "\n",
    "                            if data in ['AgeMonths','xBirthWeightCategoryFID','xBsiInsertionSiteFID']:\n",
    "                                data_name.setAttribute('xsi:nil', 'true')\n",
    "                            else:\n",
    "                                # and I add each one to that individual's \"BsiPatient\" node\n",
    "                                data_name.appendChild(tree.createTextNode(str(Monthly_CLABSI[data].iloc[i])))\n",
    "\n",
    "                            CLABSI_patient.appendChild(data_name)\n",
    "\n",
    "                        # Finally, I can add these individual CLABSI patients to the \"BsiPatients\" section.\n",
    "                        month.getElementsByTagName(\"BsiPatients\")[0].appendChild(CLABSI_patient)\n",
    "\n",
    "\n",
    "            # Next check if the current unit is a CAUTI unit\n",
    "            if each_unit in list(set(Hosp_CAUTI_data.UnitName)):\n",
    "                CAUTI_count = month.getElementsByTagName('TotalUti')[0].childNodes[0].nodeValue\n",
    "                if int(CAUTI_count) > 0:\n",
    "                    CAUTI_patients = Hosp_CAUTI_individual[Hosp_CAUTI_individual.UnitName == each_unit]\n",
    "                    # Lastly, I select only that unit's HAIs that occured in each specific month\n",
    "                    Monthly_CAUTI = CAUTI_patients[CAUTI_patients.Month == int(each_month)]\n",
    "\n",
    "                    # Now I can take each listed HAI\n",
    "                    for i in range(len(Monthly_CAUTI)):\n",
    "\n",
    "                        # and create a \"UtiPatient\" node for each individual CAUTI\n",
    "                        CAUTI_patient = tree.createElement(\"UtiPatient\")\n",
    "\n",
    "                        CAUTI_patient_list = ['xGenderFID','AgeYears','AgeMonths','xUtiEventTypeFID']\n",
    "                        for data in CAUTI_patient_list:\n",
    "                            # I create an element for each individual's metrics\n",
    "                            data_name = tree.createElement(data)\n",
    "\n",
    "                            if data == 'AgeMonths':\n",
    "                                data_name.setAttribute('xsi:nil', 'true')\n",
    "                            else:\n",
    "                                # and I add each one to that individual's \"UtiPatient\" node\n",
    "                                data_name.appendChild(tree.createTextNode(str(Monthly_CAUTI[data].iloc[i])))\n",
    "\n",
    "                            CAUTI_patient.appendChild(data_name)\n",
    "\n",
    "                        # Finally, I can add these individual CAUTI patients to the \"UtiPatients\" section.\n",
    "                        month.getElementsByTagName(\"UtiPatients\")[0].appendChild(CAUTI_patient)\n",
    "\n",
    "            # Next check if the current unit is a VAE unit\n",
    "            if each_unit in list(set(Hosp_VAE_data.UnitName)):\n",
    "                VAE_count = month.getElementsByTagName('TotalVAE')[0].childNodes[0].nodeValue\n",
    "                if int(VAE_count) > 0:\n",
    "                    VAE_patients = Hosp_VAE_individual[Hosp_VAE_individual.UnitName == each_unit]\n",
    "                    # Lastly, I select only that unit's HAIs that occured in each specific month\n",
    "                    Monthly_VAE = VAE_patients[VAE_patients.Month == int(each_month)]\n",
    "\n",
    "                    # Now I can take each listed HAI\n",
    "                    for i in range(len(Monthly_VAE)):\n",
    "\n",
    "                        # and create a \"BsiPatient\" node for each individual CLABSI\n",
    "                        VAE_patient = tree.createElement(\"VAEPatient\")\n",
    "\n",
    "                        VAE_patient_list = ['xGenderFID','AgeYears','xVAEEventTypeFID','APRVRiskFactor',\n",
    "                                              'PostProcedureVAE','xVentLocationFID']\n",
    "                        for data in VAE_patient_list:\n",
    "                            # I create an element for each individual's metrics\n",
    "                            data_name = tree.createElement(data)\n",
    "\n",
    "                            if data in ['APRVRiskFactor','PostProcedureVAE','xVentLocationFID']:\n",
    "                                data_name.setAttribute('xsi:nil', 'true')\n",
    "                            else:\n",
    "                                # and I add each one to that individual's \"BsiPatient\" node\n",
    "                                data_name.appendChild(tree.createTextNode(str(Monthly_VAE[data].iloc[i])))\n",
    "\n",
    "                            VAE_patient.appendChild(data_name)\n",
    "\n",
    "                        # Finally, I can add these individual CLABSI patients to the \"BsiPatients\" section.\n",
    "                        month.getElementsByTagName(\"VAEPatients\")[0].appendChild(VAE_patient)\n",
    "\n",
    "    # Now, we need to write and save this XML file as its own NDNQI Quarter and Year and Hospital to upload\n",
    "    # into NDNQI.\n",
    "    tree.writexml(open('Q{}_{} {} HAI Data.xml'.format(Calendar_Quarter, Calendar_Year,Selected_Hosp), 'w'))"
   ]
  },
  {
   "cell_type": "markdown",
   "metadata": {},
   "source": [
    "## EUOSH"
   ]
  },
  {
   "cell_type": "code",
   "execution_count": 7,
   "metadata": {},
   "outputs": [],
   "source": [
    "NDNQI_HAI_Summary_XML('EUOSH','2020 EUOSH HAI Template.xml','SBI556',2021,2)"
   ]
  },
  {
   "cell_type": "code",
   "execution_count": 8,
   "metadata": {},
   "outputs": [],
   "source": [
    "NDNQI_HAI_Indiv_XML('EUOSH','Temp_EUOSH.xml',2021,2)"
   ]
  },
  {
   "cell_type": "markdown",
   "metadata": {},
   "source": [
    "## EJCH"
   ]
  },
  {
   "cell_type": "code",
   "execution_count": 9,
   "metadata": {},
   "outputs": [],
   "source": [
    "NDNQI_HAI_Summary_XML('EJCH','2020 EJCH HAI Template.xml','YTD069',2021,2)"
   ]
  },
  {
   "cell_type": "code",
   "execution_count": 10,
   "metadata": {},
   "outputs": [],
   "source": [
    "NDNQI_HAI_Indiv_XML('EJCH','Temp_EJCH.xml',2021,2)"
   ]
  },
  {
   "cell_type": "markdown",
   "metadata": {},
   "source": [
    "## ESJH"
   ]
  },
  {
   "cell_type": "code",
   "execution_count": 11,
   "metadata": {},
   "outputs": [],
   "source": [
    "NDNQI_HAI_Summary_XML('ESJH','2020 ESJH HAI Template.xml','XAR317',2021,2)"
   ]
  },
  {
   "cell_type": "code",
   "execution_count": 12,
   "metadata": {},
   "outputs": [],
   "source": [
    "NDNQI_HAI_Indiv_XML('ESJH','Temp_ESJH.xml',2021,2)"
   ]
  },
  {
   "cell_type": "markdown",
   "metadata": {},
   "source": [
    "## EUHM"
   ]
  },
  {
   "cell_type": "code",
   "execution_count": 13,
   "metadata": {},
   "outputs": [],
   "source": [
    "NDNQI_HAI_Summary_XML('EUHM','2020 EUHM HAI Template.xml','PVF155',2021,2)"
   ]
  },
  {
   "cell_type": "code",
   "execution_count": 14,
   "metadata": {},
   "outputs": [],
   "source": [
    "NDNQI_HAI_Indiv_XML('EUHM','Temp_EUHM.xml',2021,2)"
   ]
  },
  {
   "cell_type": "markdown",
   "metadata": {},
   "source": [
    "## EUH"
   ]
  },
  {
   "cell_type": "code",
   "execution_count": 15,
   "metadata": {},
   "outputs": [],
   "source": [
    "NDNQI_HAI_Summary_XML('EUH','2020 EUH HAI Template.xml','JXE432',2021,2)"
   ]
  },
  {
   "cell_type": "code",
   "execution_count": 16,
   "metadata": {},
   "outputs": [],
   "source": [
    "NDNQI_HAI_Indiv_XML('EUH','Temp_EUH.xml',2021,2)"
   ]
  },
  {
   "cell_type": "markdown",
   "metadata": {},
   "source": [
    "## EDH"
   ]
  },
  {
   "cell_type": "code",
   "execution_count": 17,
   "metadata": {},
   "outputs": [],
   "source": [
    "NDNQI_HAI_Summary_XML('EDH','2021 EDH HAI Template.xml','NMW346',2021,2)"
   ]
  },
  {
   "cell_type": "code",
   "execution_count": 18,
   "metadata": {},
   "outputs": [],
   "source": [
    "NDNQI_HAI_Indiv_XML('EDH','Temp_EDH.xml',2021,2)"
   ]
  },
  {
   "cell_type": "markdown",
   "metadata": {},
   "source": [
    "## EHH"
   ]
  },
  {
   "cell_type": "code",
   "execution_count": 19,
   "metadata": {},
   "outputs": [],
   "source": [
    "NDNQI_HAI_Summary_XML('EHH','2021 EHH HAI Template.xml','WXX116',2021,2)"
   ]
  },
  {
   "cell_type": "code",
   "execution_count": 20,
   "metadata": {},
   "outputs": [],
   "source": [
    "NDNQI_HAI_Indiv_XML('EHH','Temp_EHH.xml',2021,2)"
   ]
  },
  {
   "cell_type": "markdown",
   "metadata": {},
   "source": [
    "## ELTAC"
   ]
  },
  {
   "cell_type": "code",
   "execution_count": 21,
   "metadata": {},
   "outputs": [],
   "source": [
    "NDNQI_HAI_Summary_XML('ELTAC','2021 ELTAC HAI Template.xml','XLS464',2021,2)"
   ]
  },
  {
   "cell_type": "code",
   "execution_count": 22,
   "metadata": {},
   "outputs": [],
   "source": [
    "NDNQI_HAI_Indiv_XML('ELTAC','Temp_ELTAC.xml',2021,2)"
   ]
  },
  {
   "cell_type": "code",
   "execution_count": null,
   "metadata": {},
   "outputs": [],
   "source": []
  }
 ],
 "metadata": {
  "kernelspec": {
   "display_name": "Python 3",
   "language": "python",
   "name": "python3"
  },
  "language_info": {
   "codemirror_mode": {
    "name": "ipython",
    "version": 3
   },
   "file_extension": ".py",
   "mimetype": "text/x-python",
   "name": "python",
   "nbconvert_exporter": "python",
   "pygments_lexer": "ipython3",
   "version": "3.7.5"
  }
 },
 "nbformat": 4,
 "nbformat_minor": 4
}
