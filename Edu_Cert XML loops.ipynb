{
 "cells": [
  {
   "cell_type": "code",
   "execution_count": 1,
   "metadata": {},
   "outputs": [],
   "source": [
    "import xml.dom.minidom\n",
    "import xml.etree.ElementTree as ET\n",
    "from xml.dom.minidom import Node\n",
    "import pandas as pd"
   ]
  },
  {
   "cell_type": "code",
   "execution_count": 2,
   "metadata": {},
   "outputs": [],
   "source": [
    "# Make sure to get the HLC RN Education and Certification data for the current NDNQI quarter \n",
    "RN_edu_cert_data = pd.read_csv('Q2_2021 Clean RN Edu_Cert Data.csv')"
   ]
  },
  {
   "cell_type": "code",
   "execution_count": 3,
   "metadata": {},
   "outputs": [
    {
     "data": {
      "text/plain": [
       "['EUH', 'EDH', 'ELTAC', 'EJCH', 'EUHM', 'ERH', 'EHH', 'EUOSH', 'ESJH']"
      ]
     },
     "execution_count": 3,
     "metadata": {},
     "output_type": "execute_result"
    }
   ],
   "source": [
    "# This is the list of all the hospital data that I am uploading this quarter into NDNQI\n",
    "list(set(RN_edu_cert_data.Hospital))"
   ]
  },
  {
   "cell_type": "markdown",
   "metadata": {},
   "source": [
    "Below is the master function that is used for each hospital. This simplifies the process."
   ]
  },
  {
   "cell_type": "code",
   "execution_count": 4,
   "metadata": {},
   "outputs": [],
   "source": [
    "# The variables needed for this function are the: Hospital abbreviation, Hospital NDNQI template, Hospital NDNQI\n",
    "# code, Calendar year being submitted, and Calendar quarter being submitted\n",
    "def NDNQI_RN_Edu_Cert_XML(Selected_Hosp, Hosp_XML_Template, Hosp_NDNQI_Code, Calendar_Year, Calendar_Quarter):\n",
    "\n",
    "    # The first step takes only the data for this selected hospital\n",
    "    Hosp_data = RN_edu_cert_data[RN_edu_cert_data.Hospital == Selected_Hosp]\n",
    "    # Now this is a List of this Hospital's Units\n",
    "    Hosp_Units = list(set(Hosp_data.UnitName))\n",
    "    \n",
    "    #This is the current XML template for this hospital and their NDNQI units for this metric\n",
    "    tree = xml.dom.minidom.parse(Hosp_XML_Template)\n",
    "    # This is the xml's entire UnitYrQtr node\n",
    "    unit_nodes = tree.getElementsByTagName(\"UnitYrQtr\")\n",
    "\n",
    "    # Make sure the correct, NDNQI code, year, and quarter are listed\n",
    "    H = tree.getElementsByTagName(\"HospitalCode\")[0].childNodes[0].nodeValue = Hosp_NDNQI_Code\n",
    "    Y = tree.getElementsByTagName(\"Year\")[0].childNodes[0].nodeValue = Calendar_Year\n",
    "    Q = tree.getElementsByTagName(\"Quarter\")[0].childNodes[0].nodeValue = Calendar_Quarter\n",
    "\n",
    "    end = tree.getElementsByTagName('UnitYrQtr').length\n",
    "    # Loop to create a new updated RN Edu_Cert XML file\n",
    "    for i in range(end):\n",
    "        # This is looping through the 'UnitName', 'RNCount', 'DiplomaCount', 'AssocCount','BachelorsCount', \n",
    "        #'MastersCount', 'DoctorateCount','UnknownDegreeCount', 'CertifiedRNCount' columns from the datasource. \n",
    "        for column in Hosp_data.columns[1:]:\n",
    "            #Lastly it is replacing the values in the 'XML Template' with the correct values from the data.\n",
    "            new_value = Hosp_data[column].iloc[i]\n",
    "            unit_nodes[i].getElementsByTagName(column)[0].childNodes[0].nodeValue = new_value\n",
    "\n",
    "    # Now, we need to write and save this XML file as its own NDNQI Quarter and Year and Hospital to upload\n",
    "    # into NDNQI. \n",
    "    tree.writexml(open('Q{}_{} {} RN Edu_Cert.xml'.format(Calendar_Quarter, Calendar_Year,Selected_Hosp), 'w'))"
   ]
  },
  {
   "cell_type": "markdown",
   "metadata": {},
   "source": [
    "## EJCH Data\n",
    "\n",
    "For EJCH RN Education and Certification Data:\n"
   ]
  },
  {
   "cell_type": "code",
   "execution_count": 5,
   "metadata": {},
   "outputs": [],
   "source": [
    "EJCH_data = RN_edu_cert_data[RN_edu_cert_data['Hospital'] == 'EJCH']"
   ]
  },
  {
   "cell_type": "code",
   "execution_count": 6,
   "metadata": {},
   "outputs": [],
   "source": [
    "NDNQI_RN_Edu_Cert_XML('EJCH','2020 EJCH RN Edu_Cert Template.xml','YTD069',2021,2)"
   ]
  },
  {
   "cell_type": "markdown",
   "metadata": {},
   "source": [
    "## ESJH Data\n",
    "\n",
    "- ESJH Care Management is categorized as: Workgroup - Case Management RNs but HLC does not have a SJH Care Management unit. That is why ESJH is empty under this category."
   ]
  },
  {
   "cell_type": "code",
   "execution_count": 7,
   "metadata": {},
   "outputs": [],
   "source": [
    "ESJH_data = RN_edu_cert_data[RN_edu_cert_data['Hospital'] == 'ESJH']"
   ]
  },
  {
   "cell_type": "code",
   "execution_count": 8,
   "metadata": {},
   "outputs": [],
   "source": [
    "NDNQI_RN_Edu_Cert_XML('ESJH','2020 ESJH RN Edu_Cert Template.xml','XAR317',2021,2)"
   ]
  },
  {
   "cell_type": "markdown",
   "metadata": {},
   "source": [
    "## EUHM"
   ]
  },
  {
   "cell_type": "code",
   "execution_count": 24,
   "metadata": {},
   "outputs": [],
   "source": [
    "EUHM_data = RN_edu_cert_data[RN_edu_cert_data['Hospital'] == 'EUHM']"
   ]
  },
  {
   "cell_type": "code",
   "execution_count": 25,
   "metadata": {},
   "outputs": [],
   "source": [
    "NDNQI_RN_Edu_Cert_XML('EUHM','2020 EUHM RN Edu_Cert Template.xml','PVF155',2021,2)"
   ]
  },
  {
   "cell_type": "markdown",
   "metadata": {},
   "source": [
    "## EUH"
   ]
  },
  {
   "cell_type": "code",
   "execution_count": 11,
   "metadata": {},
   "outputs": [],
   "source": [
    "EUH_data = RN_edu_cert_data[RN_edu_cert_data['Hospital'] == 'EUH']"
   ]
  },
  {
   "cell_type": "code",
   "execution_count": 12,
   "metadata": {},
   "outputs": [],
   "source": [
    "NDNQI_RN_Edu_Cert_XML('EUH','2020 EUH RN Edu_Cert Template.xml','JXE432',2021,2)"
   ]
  },
  {
   "cell_type": "markdown",
   "metadata": {},
   "source": [
    "## EUOSH"
   ]
  },
  {
   "cell_type": "code",
   "execution_count": 13,
   "metadata": {},
   "outputs": [],
   "source": [
    "EUOSH_data = RN_edu_cert_data[RN_edu_cert_data['Hospital'] == 'EUOSH']"
   ]
  },
  {
   "cell_type": "code",
   "execution_count": 14,
   "metadata": {},
   "outputs": [],
   "source": [
    "NDNQI_RN_Edu_Cert_XML('EUOSH','2020 EUOSH RN Edu_Cert Template.xml','SBI556',2021,2)"
   ]
  },
  {
   "cell_type": "markdown",
   "metadata": {},
   "source": [
    "## EDH"
   ]
  },
  {
   "cell_type": "code",
   "execution_count": 15,
   "metadata": {},
   "outputs": [],
   "source": [
    "EDH_data = RN_edu_cert_data[RN_edu_cert_data['Hospital'] == 'EDH']"
   ]
  },
  {
   "cell_type": "code",
   "execution_count": 16,
   "metadata": {},
   "outputs": [],
   "source": [
    "NDNQI_RN_Edu_Cert_XML('EDH','2021 EDH RN Edu_Cert Template.xml','NMW346',2021,2)"
   ]
  },
  {
   "cell_type": "markdown",
   "metadata": {},
   "source": [
    "## EHH"
   ]
  },
  {
   "cell_type": "code",
   "execution_count": 5,
   "metadata": {},
   "outputs": [],
   "source": [
    "EHH_data = RN_edu_cert_data[RN_edu_cert_data['Hospital'] == 'EHH']"
   ]
  },
  {
   "cell_type": "code",
   "execution_count": 6,
   "metadata": {},
   "outputs": [],
   "source": [
    "NDNQI_RN_Edu_Cert_XML('EHH','2021 EHH RN Edu_Cert Template.xml','WXX116',2021,2)"
   ]
  },
  {
   "cell_type": "markdown",
   "metadata": {},
   "source": [
    "## ELTAC"
   ]
  },
  {
   "cell_type": "code",
   "execution_count": 19,
   "metadata": {},
   "outputs": [],
   "source": [
    "ELTAC_data = RN_edu_cert_data[RN_edu_cert_data['Hospital'] == 'ELTAC']"
   ]
  },
  {
   "cell_type": "code",
   "execution_count": 20,
   "metadata": {},
   "outputs": [],
   "source": [
    "NDNQI_RN_Edu_Cert_XML('ELTAC','2021 ELTAC RN Edu_Cert Template.xml','XLS464',2021,2)"
   ]
  },
  {
   "cell_type": "code",
   "execution_count": null,
   "metadata": {},
   "outputs": [],
   "source": []
  }
 ],
 "metadata": {
  "kernelspec": {
   "display_name": "Python 3",
   "language": "python",
   "name": "python3"
  },
  "language_info": {
   "codemirror_mode": {
    "name": "ipython",
    "version": 3
   },
   "file_extension": ".py",
   "mimetype": "text/x-python",
   "name": "python",
   "nbconvert_exporter": "python",
   "pygments_lexer": "ipython3",
   "version": "3.7.5"
  }
 },
 "nbformat": 4,
 "nbformat_minor": 4
}
