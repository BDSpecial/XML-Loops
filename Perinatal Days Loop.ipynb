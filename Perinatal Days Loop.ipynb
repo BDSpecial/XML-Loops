{
 "cells": [
  {
   "cell_type": "code",
   "execution_count": 1,
   "metadata": {},
   "outputs": [],
   "source": [
    "import xml.dom.minidom\n",
    "import xml.etree.ElementTree as ET\n",
    "from xml.dom.minidom import Node\n",
    "import pandas as pd"
   ]
  },
  {
   "cell_type": "code",
   "execution_count": 19,
   "metadata": {},
   "outputs": [],
   "source": [
    "Corrected_Numbers = pd.read_csv(\"DOU CY2020 Perinatal PtDays.csv\")\n",
    "Q1 = Corrected_Numbers[Corrected_Numbers.Month.isin([1,2,3])]\n",
    "Q2 = Corrected_Numbers[Corrected_Numbers.Month.isin([4,5,6])]\n",
    "Q3 = Corrected_Numbers[Corrected_Numbers.Month.isin([7,8,9])]\n",
    "Q4 = Corrected_Numbers[Corrected_Numbers.Month.isin([10,11,12])]"
   ]
  },
  {
   "cell_type": "code",
   "execution_count": 29,
   "metadata": {},
   "outputs": [],
   "source": [
    "Perinatal_Volume = Q4"
   ]
  },
  {
   "cell_type": "code",
   "execution_count": 30,
   "metadata": {},
   "outputs": [
    {
     "data": {
      "text/html": [
       "<div>\n",
       "<style scoped>\n",
       "    .dataframe tbody tr th:only-of-type {\n",
       "        vertical-align: middle;\n",
       "    }\n",
       "\n",
       "    .dataframe tbody tr th {\n",
       "        vertical-align: top;\n",
       "    }\n",
       "\n",
       "    .dataframe thead th {\n",
       "        text-align: right;\n",
       "    }\n",
       "</style>\n",
       "<table border=\"1\" class=\"dataframe\">\n",
       "  <thead>\n",
       "    <tr style=\"text-align: right;\">\n",
       "      <th></th>\n",
       "      <th>Hospital</th>\n",
       "      <th>UnitName</th>\n",
       "      <th>Month</th>\n",
       "      <th>PatientDaysMethod</th>\n",
       "      <th>WomenPatientDaysCensus</th>\n",
       "      <th>NewbornPatientDaysCensus</th>\n",
       "    </tr>\n",
       "  </thead>\n",
       "  <tbody>\n",
       "    <tr>\n",
       "      <th>0</th>\n",
       "      <td>EDH</td>\n",
       "      <td>EDH Mother/Baby</td>\n",
       "      <td>12</td>\n",
       "      <td>Method 5 - Patient Days from Multiple Census R...</td>\n",
       "      <td>614</td>\n",
       "      <td>437</td>\n",
       "    </tr>\n",
       "    <tr>\n",
       "      <th>2</th>\n",
       "      <td>EDH</td>\n",
       "      <td>EDH Mother/Baby</td>\n",
       "      <td>10</td>\n",
       "      <td>Method 5 - Patient Days from Multiple Census R...</td>\n",
       "      <td>612</td>\n",
       "      <td>503</td>\n",
       "    </tr>\n",
       "    <tr>\n",
       "      <th>11</th>\n",
       "      <td>EDH</td>\n",
       "      <td>EDH Mother/Baby</td>\n",
       "      <td>11</td>\n",
       "      <td>Method 5 - Patient Days from Multiple Census R...</td>\n",
       "      <td>534</td>\n",
       "      <td>461</td>\n",
       "    </tr>\n",
       "  </tbody>\n",
       "</table>\n",
       "</div>"
      ],
      "text/plain": [
       "   Hospital         UnitName  Month  \\\n",
       "0       EDH  EDH Mother/Baby     12   \n",
       "2       EDH  EDH Mother/Baby     10   \n",
       "11      EDH  EDH Mother/Baby     11   \n",
       "\n",
       "                                    PatientDaysMethod  WomenPatientDaysCensus  \\\n",
       "0   Method 5 - Patient Days from Multiple Census R...                     614   \n",
       "2   Method 5 - Patient Days from Multiple Census R...                     612   \n",
       "11  Method 5 - Patient Days from Multiple Census R...                     534   \n",
       "\n",
       "    NewbornPatientDaysCensus  \n",
       "0                        437  \n",
       "2                        503  \n",
       "11                       461  "
      ]
     },
     "execution_count": 30,
     "metadata": {},
     "output_type": "execute_result"
    }
   ],
   "source": [
    "Perinatal_Volume"
   ]
  },
  {
   "cell_type": "code",
   "execution_count": 8,
   "metadata": {},
   "outputs": [],
   "source": [
    "# The variables needed for this function are the: Hospital abbreviation, Hospital NDNQI template, Hospital NDNQI\n",
    "# code, Calendar year being submitted, and Calendar quarter being submitted\n",
    "def NDNQI_Perinatal_Pt_Days_XML(Selected_Hosp,Hosp_XML_Template,Hosp_NDNQI_Code,Calendar_Year,Calendar_Quarter):\n",
    "    # This section is to update the Ambulatory Patient Volumes\n",
    " \n",
    "    # The first step takes only the data for this selected hospital\n",
    "    Hosp_data = Perinatal_Volume[Perinatal_Volume.Hospital == Selected_Hosp]\n",
    "    # A List of this Hospital's Unit Names\n",
    "    Hosp_Units = list(set(Hosp_data.UnitName))\n",
    "\n",
    "    #This is the current XML template for this hospital and their NDNQI units for this metric\n",
    "    tree = xml.dom.minidom.parse(Hosp_XML_Template)\n",
    "    # This is each unit node of the xml file\n",
    "    unit_nodes = tree.getElementsByTagName(\"UnitYrQtr\")\n",
    "\n",
    "    # Make sure the correct year and quarter are listed\n",
    "    H = tree.getElementsByTagName(\"HospitalCode\")[0].childNodes[0].nodeValue = Hosp_NDNQI_Code\n",
    "    Y = tree.getElementsByTagName(\"Year\")[0].childNodes[0].nodeValue = Calendar_Year\n",
    "    Q = tree.getElementsByTagName(\"Quarter\")[0].childNodes[0].nodeValue = Calendar_Quarter\n",
    "\n",
    "\n",
    "    # This loops through each separate UnitName from the Template XML file and replaces it the correct NDNQI\n",
    "    # name for the units. \n",
    "    for idx, unit in enumerate(unit_nodes):\n",
    "        unit.getElementsByTagName('UnitName')[0].childNodes[0].nodeValue = Hosp_Units[idx]\n",
    "\n",
    "        # Now grab each of the 3 months for that unit from the Hospital data\n",
    "        new_data = Hosp_data[Hosp_data.UnitName == Hosp_Units[idx]]\n",
    "        # Sort the data by month\n",
    "        new_data = new_data.sort_values('Month')\n",
    "\n",
    "        # Take each xml Month and replace it with each listed month from the new_data for that unit\n",
    "        month_nodes = unit.getElementsByTagName(\"UnitMonth\")\n",
    "        for idx2, month in enumerate(month_nodes):\n",
    "            month.getElementsByTagName('Month')[0].childNodes[0].nodeValue = new_data.Month.iloc[idx2]\n",
    "\n",
    "\n",
    "            for column in new_data.columns[3:]:\n",
    "\n",
    "                new_value = new_data[column].iloc[idx2]\n",
    "                month.getElementsByTagName(column)[0].childNodes[0].nodeValue = new_value\n",
    "\n",
    "\n",
    "\n",
    "    # Now, we need to write and save this XML file as its own NDNQI Quarter and Year and Hospital to upload\n",
    "    # into NDNQI.\n",
    "    tree.writexml(open('Q{}_{} {} Perinatal_Pt_Days.xml'.format(Calendar_Quarter, Calendar_Year,Selected_Hosp), 'w'))"
   ]
  },
  {
   "cell_type": "code",
   "execution_count": 31,
   "metadata": {},
   "outputs": [],
   "source": [
    "NDNQI_Perinatal_Pt_Days_XML('EDH','Perinatal PtDays Template.xml','NMW346',2020,4)"
   ]
  },
  {
   "cell_type": "code",
   "execution_count": null,
   "metadata": {},
   "outputs": [],
   "source": []
  }
 ],
 "metadata": {
  "kernelspec": {
   "display_name": "Python 3",
   "language": "python",
   "name": "python3"
  },
  "language_info": {
   "codemirror_mode": {
    "name": "ipython",
    "version": 3
   },
   "file_extension": ".py",
   "mimetype": "text/x-python",
   "name": "python",
   "nbconvert_exporter": "python",
   "pygments_lexer": "ipython3",
   "version": "3.7.5"
  }
 },
 "nbformat": 4,
 "nbformat_minor": 4
}
