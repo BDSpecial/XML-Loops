{
 "cells": [
  {
   "cell_type": "code",
   "execution_count": 1,
   "metadata": {},
   "outputs": [],
   "source": [
    "import xml.dom.minidom\n",
    "import xml.etree.ElementTree as ET\n",
    "from xml.dom.minidom import Node\n",
    "import pandas as pd"
   ]
  },
  {
   "cell_type": "code",
   "execution_count": 21,
   "metadata": {},
   "outputs": [],
   "source": [
    "DOU_ED_Volume = pd.read_csv(\"DOU CY2020 ED Patient Volume.csv\")\n",
    "Q1 = DOU_ED_Volume[DOU_ED_Volume.Month.isin([1,2,3])]\n",
    "Q2 = DOU_ED_Volume[DOU_ED_Volume.Month.isin([4,5,6])]\n",
    "Q3 = DOU_ED_Volume[DOU_ED_Volume.Month.isin([7,8,9])]\n",
    "Q4 = DOU_ED_Volume[DOU_ED_Volume.Month.isin([10,11,12])]"
   ]
  },
  {
   "cell_type": "code",
   "execution_count": 11,
   "metadata": {},
   "outputs": [],
   "source": [
    "ED_Volume_Data = pd.read_csv(\"2021_Q2 DOU ED Patient Volume.csv\")"
   ]
  },
  {
   "cell_type": "code",
   "execution_count": 12,
   "metadata": {},
   "outputs": [
    {
     "data": {
      "text/html": [
       "<div>\n",
       "<style scoped>\n",
       "    .dataframe tbody tr th:only-of-type {\n",
       "        vertical-align: middle;\n",
       "    }\n",
       "\n",
       "    .dataframe tbody tr th {\n",
       "        vertical-align: top;\n",
       "    }\n",
       "\n",
       "    .dataframe thead th {\n",
       "        text-align: right;\n",
       "    }\n",
       "</style>\n",
       "<table border=\"1\" class=\"dataframe\">\n",
       "  <thead>\n",
       "    <tr style=\"text-align: right;\">\n",
       "      <th></th>\n",
       "      <th>Hospital</th>\n",
       "      <th>UnitName</th>\n",
       "      <th>Month</th>\n",
       "      <th>NumberofPsychiatricPatientsAdmitted</th>\n",
       "      <th>NumberofEDObservationPatientsAdmitted</th>\n",
       "      <th>NumberofAllOtherPatientsAdmitted</th>\n",
       "      <th>NumberofPsychiatricPatientsTransferred</th>\n",
       "      <th>NumberofEDObservationPatientsTransferred</th>\n",
       "      <th>NumberofAllOtherPatientsTransferred</th>\n",
       "      <th>NumberofPsychiatricPatientsDischarged</th>\n",
       "      <th>NumberofEDObservationPatientsDischarged</th>\n",
       "      <th>NumberofAllOtherPatientsDischarged</th>\n",
       "    </tr>\n",
       "  </thead>\n",
       "  <tbody>\n",
       "    <tr>\n",
       "      <th>0</th>\n",
       "      <td>EHH</td>\n",
       "      <td>EHH ED</td>\n",
       "      <td>6</td>\n",
       "      <td>0</td>\n",
       "      <td>12</td>\n",
       "      <td>361</td>\n",
       "      <td>0</td>\n",
       "      <td>0</td>\n",
       "      <td>61</td>\n",
       "      <td>0</td>\n",
       "      <td>0</td>\n",
       "      <td>4218</td>\n",
       "    </tr>\n",
       "    <tr>\n",
       "      <th>1</th>\n",
       "      <td>EDH</td>\n",
       "      <td>EDH ED</td>\n",
       "      <td>4</td>\n",
       "      <td>69</td>\n",
       "      <td>22</td>\n",
       "      <td>756</td>\n",
       "      <td>9</td>\n",
       "      <td>1</td>\n",
       "      <td>155</td>\n",
       "      <td>3</td>\n",
       "      <td>0</td>\n",
       "      <td>3569</td>\n",
       "    </tr>\n",
       "    <tr>\n",
       "      <th>2</th>\n",
       "      <td>EHH</td>\n",
       "      <td>EHH ED</td>\n",
       "      <td>5</td>\n",
       "      <td>0</td>\n",
       "      <td>17</td>\n",
       "      <td>361</td>\n",
       "      <td>0</td>\n",
       "      <td>0</td>\n",
       "      <td>47</td>\n",
       "      <td>0</td>\n",
       "      <td>0</td>\n",
       "      <td>4066</td>\n",
       "    </tr>\n",
       "    <tr>\n",
       "      <th>3</th>\n",
       "      <td>EDH</td>\n",
       "      <td>EDH ED</td>\n",
       "      <td>5</td>\n",
       "      <td>77</td>\n",
       "      <td>18</td>\n",
       "      <td>737</td>\n",
       "      <td>8</td>\n",
       "      <td>0</td>\n",
       "      <td>146</td>\n",
       "      <td>2</td>\n",
       "      <td>0</td>\n",
       "      <td>3801</td>\n",
       "    </tr>\n",
       "    <tr>\n",
       "      <th>4</th>\n",
       "      <td>EHH</td>\n",
       "      <td>EHH ED</td>\n",
       "      <td>4</td>\n",
       "      <td>0</td>\n",
       "      <td>11</td>\n",
       "      <td>389</td>\n",
       "      <td>0</td>\n",
       "      <td>2</td>\n",
       "      <td>69</td>\n",
       "      <td>0</td>\n",
       "      <td>0</td>\n",
       "      <td>4084</td>\n",
       "    </tr>\n",
       "    <tr>\n",
       "      <th>5</th>\n",
       "      <td>EDH</td>\n",
       "      <td>EDH ED</td>\n",
       "      <td>6</td>\n",
       "      <td>85</td>\n",
       "      <td>11</td>\n",
       "      <td>679</td>\n",
       "      <td>6</td>\n",
       "      <td>2</td>\n",
       "      <td>144</td>\n",
       "      <td>5</td>\n",
       "      <td>0</td>\n",
       "      <td>3852</td>\n",
       "    </tr>\n",
       "  </tbody>\n",
       "</table>\n",
       "</div>"
      ],
      "text/plain": [
       "  Hospital UnitName  Month  NumberofPsychiatricPatientsAdmitted  \\\n",
       "0      EHH   EHH ED      6                                    0   \n",
       "1      EDH   EDH ED      4                                   69   \n",
       "2      EHH   EHH ED      5                                    0   \n",
       "3      EDH   EDH ED      5                                   77   \n",
       "4      EHH   EHH ED      4                                    0   \n",
       "5      EDH   EDH ED      6                                   85   \n",
       "\n",
       "   NumberofEDObservationPatientsAdmitted  NumberofAllOtherPatientsAdmitted  \\\n",
       "0                                     12                               361   \n",
       "1                                     22                               756   \n",
       "2                                     17                               361   \n",
       "3                                     18                               737   \n",
       "4                                     11                               389   \n",
       "5                                     11                               679   \n",
       "\n",
       "   NumberofPsychiatricPatientsTransferred  \\\n",
       "0                                       0   \n",
       "1                                       9   \n",
       "2                                       0   \n",
       "3                                       8   \n",
       "4                                       0   \n",
       "5                                       6   \n",
       "\n",
       "   NumberofEDObservationPatientsTransferred  \\\n",
       "0                                         0   \n",
       "1                                         1   \n",
       "2                                         0   \n",
       "3                                         0   \n",
       "4                                         2   \n",
       "5                                         2   \n",
       "\n",
       "   NumberofAllOtherPatientsTransferred  NumberofPsychiatricPatientsDischarged  \\\n",
       "0                                   61                                      0   \n",
       "1                                  155                                      3   \n",
       "2                                   47                                      0   \n",
       "3                                  146                                      2   \n",
       "4                                   69                                      0   \n",
       "5                                  144                                      5   \n",
       "\n",
       "   NumberofEDObservationPatientsDischarged  NumberofAllOtherPatientsDischarged  \n",
       "0                                        0                                4218  \n",
       "1                                        0                                3569  \n",
       "2                                        0                                4066  \n",
       "3                                        0                                3801  \n",
       "4                                        0                                4084  \n",
       "5                                        0                                3852  "
      ]
     },
     "execution_count": 12,
     "metadata": {},
     "output_type": "execute_result"
    }
   ],
   "source": [
    "ED_Volume_Data"
   ]
  },
  {
   "cell_type": "code",
   "execution_count": 6,
   "metadata": {},
   "outputs": [],
   "source": [
    "# The variables needed for this function are the: Hospital abbreviation, Hospital NDNQI template, Hospital NDNQI\n",
    "# code, Calendar year being submitted, and Calendar quarter being submitted\n",
    "def NDNQI_EDVolume_XML(Selected_Hosp,Hosp_XML_Template,Hosp_NDNQI_Code,Calendar_Year,Calendar_Quarter):\n",
    "    \n",
    "    # The first step takes only the data for this selected hospital\n",
    "    Hosp_data = ED_Volume_Data[ED_Volume_Data.Hospital == Selected_Hosp]\n",
    "    # Now this is a List of this Hospital's Units\n",
    "    Hosp_Units = list(set(Hosp_data.UnitName))\n",
    "\n",
    "    #This is the current XML template for this hospital and their NDNQI units for this metric\n",
    "    tree = xml.dom.minidom.parse(Hosp_XML_Template)\n",
    "    # This is the xml's entire UnitYrQtr node\n",
    "    unit_nodes = tree.getElementsByTagName(\"UnitYrQtr\")\n",
    "\n",
    "    # Make sure the correct NDNQI code, year, and quarter are listed\n",
    "    H = tree.getElementsByTagName(\"HospitalCode\")[0].childNodes[0].nodeValue = Hosp_NDNQI_Code\n",
    "    Y = tree.getElementsByTagName(\"Year\")[0].childNodes[0].nodeValue = Calendar_Year\n",
    "    Q = tree.getElementsByTagName(\"Quarter\")[0].childNodes[0].nodeValue = Calendar_Quarter\n",
    "    \n",
    "\n",
    "    # This loops through each separate UnitName from the Template XML file and replaces it the correct NDNQI\n",
    "    # name for the units. \n",
    "    for idx, unit in enumerate(unit_nodes):\n",
    "        unit.getElementsByTagName('UnitName')[0].childNodes[0].nodeValue = Hosp_Units[idx]\n",
    "\n",
    "        # Now grab each of the 3 months for that unit from the Hospital data\n",
    "        new_data = Hosp_data[Hosp_data.UnitName == Hosp_Units[idx]]\n",
    "        # Sort the data by month\n",
    "        new_data = new_data.sort_values('Month')\n",
    "\n",
    "        # Take each xml Month and replace it with the months from the new_data for that unit\n",
    "        month_nodes = unit.getElementsByTagName(\"UnitMonth\")\n",
    "        for idx2, month in enumerate(month_nodes):\n",
    "            month.getElementsByTagName('Month')[0].childNodes[0].nodeValue = new_data.Month.iloc[idx2]\n",
    "\n",
    "            # This is looping through the 'xPatientDaysMethodFID', 'PtDaysMNCensus' columns from the data\n",
    "            for column in new_data.columns[3:]:\n",
    "\n",
    "                #Lastly it is replacing the values in the 'XML Template' with the correct values from the data.\n",
    "                new_value = new_data[column].iloc[idx2]\n",
    "                month.getElementsByTagName(column)[0].childNodes[0].nodeValue = new_value\n",
    "\n",
    "\n",
    "\n",
    "    # Now, we need to write and save this XML file as its own NDNQI Quarter and Year and Hospital to upload\n",
    "    # into NDNQI.\n",
    "    tree.writexml(open('Q{}_{} {} ED_Patient_Volume.xml'.format(Calendar_Quarter, Calendar_Year,Selected_Hosp), 'w'))"
   ]
  },
  {
   "cell_type": "markdown",
   "metadata": {},
   "source": [
    "## EUH"
   ]
  },
  {
   "cell_type": "code",
   "execution_count": 7,
   "metadata": {},
   "outputs": [],
   "source": [
    "NDNQI_EDVolume_XML('EUH','2020 ED Pt Volume Template.xml','JXE432',2021,2)"
   ]
  },
  {
   "cell_type": "markdown",
   "metadata": {},
   "source": [
    "## EUHM"
   ]
  },
  {
   "cell_type": "code",
   "execution_count": 8,
   "metadata": {},
   "outputs": [],
   "source": [
    "NDNQI_EDVolume_XML('EUHM','2020 ED Pt Volume Template.xml','PVF155',2021,2)"
   ]
  },
  {
   "cell_type": "markdown",
   "metadata": {},
   "source": [
    "## ESJH"
   ]
  },
  {
   "cell_type": "code",
   "execution_count": 9,
   "metadata": {},
   "outputs": [],
   "source": [
    "NDNQI_EDVolume_XML('ESJH','2020 ED Pt Volume Template.xml','XAR317',2021,2)"
   ]
  },
  {
   "cell_type": "markdown",
   "metadata": {},
   "source": [
    "## EJCH"
   ]
  },
  {
   "cell_type": "code",
   "execution_count": 10,
   "metadata": {},
   "outputs": [],
   "source": [
    "NDNQI_EDVolume_XML('EJCH','2020 ED Pt Volume Template.xml','YTD069',2021,2)"
   ]
  },
  {
   "cell_type": "markdown",
   "metadata": {},
   "source": [
    "## EDH"
   ]
  },
  {
   "cell_type": "code",
   "execution_count": 13,
   "metadata": {},
   "outputs": [],
   "source": [
    "NDNQI_EDVolume_XML('EDH','2021 DOU ED Pt Volume Template.xml','NMW346',2021,2)"
   ]
  },
  {
   "cell_type": "markdown",
   "metadata": {},
   "source": [
    "## EHH"
   ]
  },
  {
   "cell_type": "code",
   "execution_count": 14,
   "metadata": {},
   "outputs": [],
   "source": [
    "NDNQI_EDVolume_XML('EHH','2021 DOU ED Pt Volume Template.xml','WXX116',2021,2)"
   ]
  },
  {
   "cell_type": "code",
   "execution_count": null,
   "metadata": {},
   "outputs": [],
   "source": []
  }
 ],
 "metadata": {
  "kernelspec": {
   "display_name": "Python 3",
   "language": "python",
   "name": "python3"
  },
  "language_info": {
   "codemirror_mode": {
    "name": "ipython",
    "version": 3
   },
   "file_extension": ".py",
   "mimetype": "text/x-python",
   "name": "python",
   "nbconvert_exporter": "python",
   "pygments_lexer": "ipython3",
   "version": "3.7.5"
  }
 },
 "nbformat": 4,
 "nbformat_minor": 4
}
