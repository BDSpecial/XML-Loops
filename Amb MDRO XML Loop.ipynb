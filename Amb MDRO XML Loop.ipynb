{
 "cells": [
  {
   "cell_type": "code",
   "execution_count": 1,
   "metadata": {},
   "outputs": [],
   "source": [
    "import xml.dom.minidom\n",
    "import xml.etree.ElementTree as ET\n",
    "from xml.dom.minidom import Node\n",
    "import pandas as pd"
   ]
  },
  {
   "cell_type": "code",
   "execution_count": 2,
   "metadata": {},
   "outputs": [],
   "source": [
    "# Ambulatory MDRO Summary Files\n",
    "MDRO_Summary = pd.read_csv(\"Amb MDRO Summary.csv\")\n",
    "# HAI Individual Patient Files\n",
    "MDRO_Individual = pd.read_csv(\"Amb MDRO Individuals.csv\")"
   ]
  },
  {
   "cell_type": "code",
   "execution_count": 3,
   "metadata": {},
   "outputs": [],
   "source": [
    "# convert the 'SpecimenDate' column to datetime format\n",
    "MDRO_Individual.SpecimenDate = pd.to_datetime(MDRO_Individual.SpecimenDate)\n",
    "# Change the date formating\n",
    "MDRO_Individual.SpecimenDate = MDRO_Individual.SpecimenDate.apply(lambda x: x.strftime('%m/%d/%Y'))"
   ]
  },
  {
   "cell_type": "markdown",
   "metadata": {},
   "source": [
    "## Ambulatory HAI Summary Function"
   ]
  },
  {
   "cell_type": "code",
   "execution_count": 4,
   "metadata": {},
   "outputs": [],
   "source": [
    "# The variables needed for this function are the: Hospital abbreviation, Hospital NDNQI template, Hospital NDNQI\n",
    "# code, Calendar year being submitted, and Calendar quarter being submitted\n",
    "def NDNQI_Amb_HAI_Summary_XML(Selected_Hosp,Hosp_XML_Template,Hosp_NDNQI_Code,Calendar_Year,Calendar_Quarter):\n",
    "    # This section is to add or create each HAI summary section\n",
    "    \n",
    "    # This Hospital's Summary Data\n",
    "    Hosp_MDRO_data = MDRO_Summary[MDRO_Summary.Hospital == Selected_Hosp]\n",
    "    # A List of this Hospital's Unit Names\n",
    "    Hosp_Units = list(set(Hosp_MDRO_data.UnitName))\n",
    "\n",
    "    #This is the current XML template for this hospital and their NDNQI units for this metric\n",
    "    tree = xml.dom.minidom.parse(Hosp_XML_Template)\n",
    "    # This is each unit node of the xml file\n",
    "    unit_nodes = tree.getElementsByTagName(\"UnitYrQtr\")\n",
    "\n",
    "    # Make sure the correct year and quarter are listed\n",
    "    H = tree.getElementsByTagName(\"HospitalCode\")[0].childNodes[0].nodeValue = Hosp_NDNQI_Code\n",
    "    Y = tree.getElementsByTagName(\"Year\")[0].childNodes[0].nodeValue = Calendar_Year\n",
    "    Q = tree.getElementsByTagName(\"Quarter\")[0].childNodes[0].nodeValue = Calendar_Quarter\n",
    "\n",
    "\n",
    "    # Take the xml UnitName and replace it with the correct Hospital UnitName from the Hosp_Units list. \n",
    "    for idx, unit in enumerate(unit_nodes):\n",
    "        unit.getElementsByTagName('UnitName')[0].childNodes[0].nodeValue = Hosp_Units[idx]\n",
    "        current_xml_unit = unit.getElementsByTagName('UnitName')[0].childNodes[0].nodeValue\n",
    "\n",
    "        # With this correct EUOSH UnitName grab each of the 3 months for that unit from the EUH data\n",
    "        MDRO_new_data = Hosp_MDRO_data[Hosp_MDRO_data.UnitName == Hosp_Units[idx]]\n",
    "        # Sort the data by month\n",
    "        MDRO_new_data = MDRO_new_data.sort_values('Month')\n",
    "\n",
    "\n",
    "        # Take each xml Month and replace it with each listed month from the new_data for that unit\n",
    "        month_nodes = unit.getElementsByTagName(\"UnitMonth\")\n",
    "        for idx2, month in enumerate(month_nodes):\n",
    "            month.getElementsByTagName('Month')[0].childNodes[0].nodeValue = MDRO_new_data.Month.iloc[idx2]\n",
    "\n",
    "            # Take each xml MDROSummary\n",
    "            MDRO_nodes = month.getElementsByTagName(\"MDROAmbulatorySummary\")\n",
    "            # Now replace each xml metric value with data that has the same name from our data source\n",
    "            for MDRO_node in MDRO_nodes:\n",
    "\n",
    "                for column in MDRO_new_data.columns[3:]:\n",
    "                    new_value = MDRO_new_data[column].iloc[idx2]\n",
    "                    MDRO_node.getElementsByTagName(column)[0].childNodes[0].nodeValue = new_value\n",
    "\n",
    "\n",
    "\n",
    "     # This is a temporary xml file that I will now use to add the individual separation data.\n",
    "    tree.writexml(open('Temp_{}.xml'.format(Selected_Hosp), 'w'))"
   ]
  },
  {
   "cell_type": "code",
   "execution_count": 5,
   "metadata": {},
   "outputs": [],
   "source": [
    "# The variables needed for this function are the: Hospital abbreviation, Hospital Temp XML file,\n",
    "# Calendar year being submitted, and Calendar quarter being submitted\n",
    "def NDNQI_Amb_HAI_Indiv_XML(Selected_Hosp,Temp_XML,Calendar_Year,Calendar_Quarter):\n",
    "    # This is the temporary xml file that has already had the HAI Summary section filled\n",
    "    \n",
    "    # This Hospital's Individual Data\n",
    "    Hosp_MDRO_individual = MDRO_Individual[MDRO_Individual.Hospital == Selected_Hosp]\n",
    "    \n",
    "    tree = xml.dom.minidom.parse(Temp_XML)\n",
    "    unit_nodes = tree.getElementsByTagName(\"UnitYrQtr\")\n",
    "\n",
    "    # This loops through each listed unit in our Temp xml file\n",
    "    for idx, unit in enumerate(unit_nodes):\n",
    "        each_unit = unit.getElementsByTagName('UnitName')[0].childNodes[0].nodeValue\n",
    "\n",
    "        # Then we loop through each listed month\n",
    "        month_nodes = unit.getElementsByTagName(\"UnitMonth\")\n",
    "        for idx2, month in enumerate(month_nodes):\n",
    "            each_month = month.getElementsByTagName('Month')[0].childNodes[0].nodeValue\n",
    "\n",
    "            CDIFF_count = month.getElementsByTagName('TotalCDiff')[0].childNodes[0].nodeValue\n",
    "            MDRA_count = month.getElementsByTagName('TotalMRSA')[0].childNodes[0].nodeValue     \n",
    "\n",
    "            MDROs = [int(CDIFF_count), int(MDRA_count)]\n",
    "            total_MDROs = sum(MDROs)\n",
    "\n",
    "            if total_MDROs > 0:\n",
    "                # Then I grab each patient with HAI data for this unit\n",
    "                MDRO_patients = Hosp_MDRO_individual[Hosp_MDRO_individual.UnitName == each_unit]\n",
    "                # Lastly, I select only that unit's HAIs that occured in each specific month\n",
    "                Monthly_MDROs = MDRO_patients[MDRO_patients.Month == int(each_month)]\n",
    "\n",
    "                # Now I can take each listed HAI\n",
    "                for i in range(len(Monthly_MDROs)):\n",
    "\n",
    "                    # and create a \"MDROEvent\" node for each individual MDRO\n",
    "                    MDRO_patient = tree.createElement(\"MDROAmbulatoryEvent\")\n",
    "\n",
    "                    MDRO_patient_list = ['AgeYears','xGenderFID','xMDROOrganismFID','SpecimenDate']\n",
    "                    for data in MDRO_patient_list:\n",
    "                        # I create an element for each individual's metrics\n",
    "                        data_name = tree.createElement(data)\n",
    "                        data_name.appendChild(tree.createTextNode(str(Monthly_MDROs[data].iloc[i])))\n",
    "\n",
    "                        MDRO_patient.appendChild(data_name)\n",
    "\n",
    "                    # Finally, I can add these individual MDRO patients to the \"MDROEvents\" section.\n",
    "                    month.getElementsByTagName(\"MDROAmbulatoryEvents\")[0].appendChild(MDRO_patient)\n",
    "\n",
    "\n",
    "    # Now, we need to write and save this XML file as its own NDNQI Quarter and Year and Hospital to upload\n",
    "    # into NDNQI.\n",
    "    tree.writexml(open('Q{}_{} {} Amb MDRO Data.xml'.format(Calendar_Quarter, Calendar_Year,Selected_Hosp), 'w'))"
   ]
  },
  {
   "cell_type": "markdown",
   "metadata": {},
   "source": [
    "## EUOSH"
   ]
  },
  {
   "cell_type": "code",
   "execution_count": 6,
   "metadata": {},
   "outputs": [],
   "source": [
    "NDNQI_Amb_HAI_Summary_XML('EUOSH','2020 EUOSH Amb MDRO Template.xml','SBI556',2021,2)"
   ]
  },
  {
   "cell_type": "code",
   "execution_count": 7,
   "metadata": {},
   "outputs": [],
   "source": [
    "NDNQI_Amb_HAI_Indiv_XML('EUOSH','Temp_EUOSH.xml',2021,2)"
   ]
  },
  {
   "cell_type": "markdown",
   "metadata": {},
   "source": [
    "## EJCH"
   ]
  },
  {
   "cell_type": "code",
   "execution_count": 8,
   "metadata": {},
   "outputs": [],
   "source": [
    "NDNQI_Amb_HAI_Summary_XML('EJCH','2020 EJCH Amb MDRO Template.xml','YTD069',2021,2)"
   ]
  },
  {
   "cell_type": "code",
   "execution_count": 9,
   "metadata": {},
   "outputs": [],
   "source": [
    "NDNQI_Amb_HAI_Indiv_XML('EJCH','Temp_EJCH.xml',2021,2)"
   ]
  },
  {
   "cell_type": "markdown",
   "metadata": {},
   "source": [
    "## ESJH"
   ]
  },
  {
   "cell_type": "code",
   "execution_count": 10,
   "metadata": {},
   "outputs": [],
   "source": [
    "NDNQI_Amb_HAI_Summary_XML('ESJH','2020 ESJH Amb MDRO Template.xml','XAR317',2021,2)"
   ]
  },
  {
   "cell_type": "code",
   "execution_count": 11,
   "metadata": {},
   "outputs": [],
   "source": [
    "NDNQI_Amb_HAI_Indiv_XML('ESJH','Temp_ESJH.xml',2021,2)"
   ]
  },
  {
   "cell_type": "markdown",
   "metadata": {},
   "source": [
    "## EUHM"
   ]
  },
  {
   "cell_type": "code",
   "execution_count": 12,
   "metadata": {},
   "outputs": [],
   "source": [
    "NDNQI_Amb_HAI_Summary_XML('EUHM','2020 EUHM Amb MDRO Template.xml','PVF155',2021,2)"
   ]
  },
  {
   "cell_type": "code",
   "execution_count": 13,
   "metadata": {},
   "outputs": [],
   "source": [
    "NDNQI_Amb_HAI_Indiv_XML('EUHM','Temp_EUHM.xml',2021,2)"
   ]
  },
  {
   "cell_type": "markdown",
   "metadata": {},
   "source": [
    "## EUH"
   ]
  },
  {
   "cell_type": "code",
   "execution_count": 14,
   "metadata": {},
   "outputs": [],
   "source": [
    "NDNQI_Amb_HAI_Summary_XML('EUH','2020 EUH Amb MDRO Template.xml','JXE432',2021,2)"
   ]
  },
  {
   "cell_type": "code",
   "execution_count": 15,
   "metadata": {},
   "outputs": [],
   "source": [
    "NDNQI_Amb_HAI_Indiv_XML('EUH','Temp_EUH.xml',2021,2)"
   ]
  },
  {
   "cell_type": "markdown",
   "metadata": {},
   "source": [
    "## EDH"
   ]
  },
  {
   "cell_type": "code",
   "execution_count": 16,
   "metadata": {},
   "outputs": [],
   "source": [
    "NDNQI_Amb_HAI_Summary_XML('EDH','2021 EDH Amb MDRO Template.xml','NMW346',2021,2)"
   ]
  },
  {
   "cell_type": "code",
   "execution_count": 17,
   "metadata": {},
   "outputs": [],
   "source": [
    "NDNQI_Amb_HAI_Indiv_XML('EDH','Temp_EDH.xml',2021,2)"
   ]
  },
  {
   "cell_type": "markdown",
   "metadata": {},
   "source": [
    "## EHH"
   ]
  },
  {
   "cell_type": "code",
   "execution_count": 18,
   "metadata": {},
   "outputs": [],
   "source": [
    "NDNQI_Amb_HAI_Summary_XML('EHH','2021 EHH Amb MDRO Template.xml','WXX116',2021,2)"
   ]
  },
  {
   "cell_type": "code",
   "execution_count": 19,
   "metadata": {},
   "outputs": [],
   "source": [
    "NDNQI_Amb_HAI_Indiv_XML('EHH','Temp_EHH.xml',2021,2)"
   ]
  },
  {
   "cell_type": "code",
   "execution_count": null,
   "metadata": {},
   "outputs": [],
   "source": []
  }
 ],
 "metadata": {
  "kernelspec": {
   "display_name": "Python 3",
   "language": "python",
   "name": "python3"
  },
  "language_info": {
   "codemirror_mode": {
    "name": "ipython",
    "version": 3
   },
   "file_extension": ".py",
   "mimetype": "text/x-python",
   "name": "python",
   "nbconvert_exporter": "python",
   "pygments_lexer": "ipython3",
   "version": "3.7.5"
  }
 },
 "nbformat": 4,
 "nbformat_minor": 4
}
